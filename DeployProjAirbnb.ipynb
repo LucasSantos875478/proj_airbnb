{
 "cells": [
  {
   "cell_type": "code",
   "execution_count": 2,
   "metadata": {},
   "outputs": [],
   "source": [
    "import pandas as pd\n",
    "import streamlit as st\n",
    "import joblib\n",
    "\n",
    "colunas = ['host_is_superhost', 'host_listings_count', 'latitude', 'longitude',\n",
    "       'accommodates', 'bathrooms', 'bedrooms', 'beds',\n",
    "       'extra_people', 'minimum_nights', 'number_of_reviews',\n",
    "       'instant_bookable', 'year', 'month', 'n_amenities',\n",
    "       'property_type_Apartment', 'property_type_Condominium',\n",
    "       'property_type_House', 'property_type_Other',\n",
    "       'room_type_Entire home/apt', 'room_type_Hotel room',\n",
    "       'room_type_Private room', 'room_type_Shared room', 'cancellation_policy_flexible',\n",
    "       'cancellation_policy_moderate', 'cancellation_policy_strict',\n",
    "       'cancellation_policy_strict_14_with_grace_period']\n",
    "      \n",
    "x_numericos = {'latitude': 0, 'longitude': 0, 'accommodates': 0, 'bathrooms': 0, 'bedrooms': 0, 'beds': 0, 'extra_people': 0,\n",
    "               'minimum_nights': 0, 'year': 0, 'month': 0, 'n_amenities': 0, 'host_listings_count': 0, 'number_of_reviews': 0}\n",
    "\n",
    "x_tf = {'host_is_superhost': 0, 'instant_bookable': 0}\n",
    "\n",
    "x_listas = {'property_type': ['Apartment','Condominium', 'House', 'Other'],\n",
    "            'room_type': ['Entire home/apt','Private room', 'Hotel room', 'Shared room'],\n",
    "            'cancellation_policy': ['flexible', 'moderate', 'strict_14_with_grace_period', 'strict']\n",
    "            }\n",
    "\n",
    "\n",
    "dicionario = {}\n",
    "for item in x_listas:\n",
    "    for valor in x_listas[item]:\n",
    "        dicionario[f'{item}_{valor}'] = 0\n",
    "\n",
    "\n",
    "for item in x_numericos:\n",
    "    if item == 'latitude' or item == 'longitude':\n",
    "        valor = st.number_input(f'{item}', step=0.00001, value=0.0, format=\"%.5f\")\n",
    "    elif item == 'extra_people':\n",
    "        valor = st.number_input(f'{item}', step=0.01, value=0.0)\n",
    "    else:\n",
    "        valor = st.number_input(f'{item}', step=1, value=0)\n",
    "    x_numericos[item] = valor\n",
    "\n",
    "for item in x_tf:\n",
    "    valor = st.selectbox(f'{item}', ('Sim', 'Não'))\n",
    "    if valor == \"Sim\":\n",
    "        x_tf[item] = 1\n",
    "    else:\n",
    "        x_tf[item] = 0\n",
    "    \n",
    "    \n",
    "for item in x_listas:\n",
    "    valor = st.selectbox(f'{item}', x_listas[item])\n",
    "    dicionario[f'{item}_{valor}'] = 1\n",
    "    \n",
    "botao = st.button('Prever Valor do Imóvel')\n",
    "\n",
    "if botao:\n",
    "    dicionario.update(x_numericos)\n",
    "    dicionario.update(x_tf)\n",
    "    valores_x = pd.DataFrame(dicionario, index=[0])\n",
    "    valores_x = valores_x[colunas]\n",
    "    modelo = joblib.load('modelo.joblib')\n",
    "    preco = modelo.predict(valores_x)\n",
    "    st.write(preco[0])\n"
   ]
  },
  {
   "cell_type": "code",
   "execution_count": 8,
   "metadata": {},
   "outputs": [],
   "source": []
  },
  {
   "cell_type": "code",
   "execution_count": 16,
   "metadata": {},
   "outputs": [
    {
     "name": "stdout",
     "output_type": "stream",
     "text": [
      "Inicio: 2024-01-24 14:17:33.072725\n",
      "Fim: 2024-01-24 14:17:33.113840\n",
      "O código demorou 0:00:00.041115\n"
     ]
    }
   ],
   "source": []
  }
 ],
 "metadata": {
  "kernelspec": {
   "display_name": "Python 3 (ipykernel)",
   "language": "python",
   "name": "python3"
  },
  "language_info": {
   "codemirror_mode": {
    "name": "ipython",
    "version": 3
   },
   "file_extension": ".py",
   "mimetype": "text/x-python",
   "name": "python",
   "nbconvert_exporter": "python",
   "pygments_lexer": "ipython3",
   "version": "3.11.5"
  }
 },
 "nbformat": 4,
 "nbformat_minor": 4
}
