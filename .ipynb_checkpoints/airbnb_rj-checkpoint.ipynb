{
 "cells": [
  {
   "cell_type": "markdown",
   "id": "15559fa6",
   "metadata": {},
   "source": [
    "# Projeto Airbnb Rio - Ferramenta de Previsão de Preço de Imóvel para pessoas comuns "
   ]
  },
  {
   "cell_type": "markdown",
   "id": "cb7f42d0",
   "metadata": {},
   "source": [
    "### Contexto\n",
    "\n",
    "No Airbnb, qualquer pessoa que tenha um quarto ou um imóvel de qualquer tipo (apartamento, casa, chalé, pousada, etc.) pode ofertar o seu imóvel para ser alugado por diária.\n",
    "\n",
    "Você cria o seu perfil de host (pessoa que disponibiliza um imóvel para aluguel por diária) e cria o anúncio do seu imóvel.\n",
    "\n",
    "Nesse anúncio, o host deve descrever as características do imóvel da forma mais completa possível, de forma a ajudar os locadores/viajantes a escolherem o melhor imóvel para eles (e de forma a tornar o seu anúncio mais atrativo)\n",
    "\n",
    "Existem dezenas de personalizações possíveis no seu anúncio, desde quantidade mínima de diária, preço, quantidade de quartos, até regras de cancelamento, taxa extra para hóspedes extras, exigência de verificação de identidade do locador, etc.\n",
    "\n",
    "### Nosso objetivo\n",
    "\n",
    "Construir um modelo de previsão de preço que permita uma pessoa comum que possui um imóvel possa saber quanto deve cobrar pela diária do seu imóvel.\n",
    "\n",
    "Ou ainda, para o locador comum, dado o imóvel que ele está buscando, ajudar a saber se aquele imóvel está com preço atrativo (abaixo da média para imóveis com as mesmas características) ou não.\n",
    "\n",
    "### O que temos disponível, inspirações e créditos\n",
    "\n",
    "As bases de dados foram retiradas do site kaggle: https://www.kaggle.com/allanbruno/airbnb-rio-de-janeiro\n",
    "\n",
    "Caso queira uma outra solução, podemos olhar como referência a solução do usuário Allan Bruno do kaggle no Notebook: https://www.kaggle.com/allanbruno/helping-regular-people-price-listings-on-airbnb\n",
    "\n",
    "Você vai perceber semelhanças entre a solução que vamos desenvolver aqui e a dele, mas também algumas diferenças significativas no processo de construção do projeto.\n",
    "\n",
    "- As bases de dados são os preços dos imóveis obtidos e suas respectivas características em cada mês.\n",
    "- Os preços são dados em reais (R$)\n",
    "- Temos bases de abril de 2018 a maio de 2020, com exceção de junho de 2018 que não possui base de dados\n",
    "\n",
    "### Expectativas Iniciais\n",
    "\n",
    "- Acredito que a sazonalidade pode ser um fator importante, visto que meses como dezembro costumam ser bem caros no RJ\n",
    "- A localização do imóvel deve fazer muita diferença no preço, já que no Rio de Janeiro a localização pode mudar completamente as características do lugar (segurança, beleza natural, pontos turísticos)\n",
    "- Adicionais/Comodidades podem ter um impacto significativo, visto que temos muitos prédios e casas antigos no Rio de Janeiro\n",
    "\n",
    "Vamos descobrir o quanto esses fatores impactam e se temos outros fatores não tão intuitivos que são extremamente importantes."
   ]
  },
  {
   "cell_type": "code",
   "execution_count": 56,
   "id": "67d8526d",
   "metadata": {},
   "outputs": [],
   "source": [
    "import pandas as pd\n",
    "import numpy as np\n",
    "import matplotlib.pyplot as plt\n",
    "import seaborn as sns\n",
    "import pathlib"
   ]
  },
  {
   "cell_type": "markdown",
   "id": "57629b8d",
   "metadata": {},
   "source": [
    "### Consolidar Base de Dados"
   ]
  },
  {
   "cell_type": "code",
   "execution_count": null,
   "id": "2cbd9974",
   "metadata": {},
   "outputs": [],
   "source": [
    "meses = {'jan': 1, 'fev':2, 'mar':3, 'abr': 4, 'mai':5, 'jun': 6, 'jul': 7, 'ago': 8, 'set': 9, 'out': 10, 'nov': 11, 'dez': 12}\n",
    "\n",
    "#definindo o caminho base para os meus arquivos\n",
    "caminho = pathlib.Path('dataset')\n",
    "\n",
    "base_airbnb = pd.DataFrame()\n",
    "bases = []\n",
    "\n",
    "#percorrendo todos os meus arquivos\n",
    "for arquivo in caminho.iterdir():\n",
    "    #armazenando o mês do arquivo para colocar na base de dados depois, pois iremos perder essa informação\n",
    "    nome_mes = arquivo.name[:3]\n",
    "    if nome_mes == 'tot':\n",
    "        pass\n",
    "    else:\n",
    "        mes = meses[nome_mes]\n",
    "\n",
    "        #armazenando o ano do arquivo para colocar na base de dados depois, pois iremos perder essa informação\n",
    "        ano = arquivo.name[-8:]\n",
    "        ano = int(ano.replace('.csv', ''))\n",
    "\n",
    "        base = pd.read_csv(caminho / arquivo.name, low_memory=False)\n",
    "        base_airbnb['ano'] = ano\n",
    "        base_airbnb['mes'] = mes\n",
    "        base['year'] = ano\n",
    "        base['month'] = mes\n",
    "        bases.append(base)\n",
    "\n",
    "base_airbnb = pd.concat(bases)\n",
    "display(base_airbnb)"
   ]
  },
  {
   "cell_type": "markdown",
   "id": "e53fbb4f",
   "metadata": {},
   "source": [
    "Como essa base de dados demora para ser analisada, vou criar uma base de backup, para caso eu faça algo que não seja bom para o modelo no futuro não preciso perder muito tempo nesse código"
   ]
  },
  {
   "cell_type": "code",
   "execution_count": null,
   "id": "8e1e7b48",
   "metadata": {},
   "outputs": [],
   "source": [
    "airbnb_df = base_airbnb"
   ]
  },
  {
   "cell_type": "markdown",
   "id": "e9333a3b",
   "metadata": {},
   "source": [
    " Vou excluir algumas colunas que não vão ajudar no nosso modelo de previsão, para deixar o modelo mais leve e com menos falhas. Para isso vou gerar um arquivo em excel com os mil primeiros dados da tabela para fazer uma análise qualitativa.\n",
    " \n",
    " Colunas Excluídas:\n",
    " \n",
    "     1- ID, Links e colunas que não possuem uma informação relevante para o modelo\n",
    "     2- Colunas com as mesmas informações ou com informações parecidas. EX: Data x Ano/Mês\n",
    "     3- Colunas com texto livre, pois não faremos uma análise de palavras ou algo parecido\n",
    "     4- Colunas que possuem todos ou quase todos os valores com mesmo valor/vazios\n",
    "     \n",
    "     "
   ]
  },
  {
   "cell_type": "code",
   "execution_count": null,
   "id": "70efd3ff",
   "metadata": {},
   "outputs": [],
   "source": [
    "# cria um arquivo csv com as primeiras 1000 linhas do nosso DatFrame airbnb_df para fazermos uma análise das colunas mais facilmente\n",
    "#airbnb_df.head(1000).to_csv('registros.csv')"
   ]
  },
  {
   "cell_type": "markdown",
   "id": "b23c4fe1",
   "metadata": {},
   "source": [
    "# Excluindo as colunas que não trazem informações relevantes"
   ]
  },
  {
   "cell_type": "code",
   "execution_count": null,
   "id": "a64038a7",
   "metadata": {},
   "outputs": [],
   "source": [
    "print(airbnb_df[['host_acceptance_rate']].value_counts())"
   ]
  },
  {
   "cell_type": "code",
   "execution_count": null,
   "id": "499ab19e",
   "metadata": {},
   "outputs": [],
   "source": [
    "print((airbnb_df['host_listings_count']==airbnb_df['host_total_listings_count']).value_counts())"
   ]
  },
  {
   "cell_type": "code",
   "execution_count": null,
   "id": "cffbb591",
   "metadata": {},
   "outputs": [],
   "source": [
    "colunas = ['host_response_time', 'host_response_rate', 'host_is_superhost', 'host_listings_count', 'latitude', 'longitude', 'property_type', 'room_type', 'accommodates', 'bathrooms', 'bedrooms', 'beds', 'bed_type', 'amenities', 'price', 'security_deposit', 'cleaning_fee', 'guests_included', 'extra_people', 'minimum_nights', 'maximum_nights', 'number_of_reviews', 'review_scores_rating', 'review_scores_accuracy', 'review_scores_cleanliness', 'review_scores_checkin', 'review_scores_communication', 'review_scores_location', 'review_scores_value', 'instant_bookable', 'cancellation_policy', 'year', 'month']\n",
    "\n",
    "airbnb_df = airbnb_df.loc[:, colunas]\n",
    "display(airbnb_df)\n"
   ]
  },
  {
   "cell_type": "markdown",
   "id": "49651822",
   "metadata": {},
   "source": [
    "# Depois de excluir as colunas que não serão úteis para o nosso modelo vamos analisar os valores vazios\n"
   ]
  },
  {
   "cell_type": "code",
   "execution_count": null,
   "id": "ae983b74",
   "metadata": {},
   "outputs": [],
   "source": [
    "print(airbnb_df.isnull().sum())"
   ]
  },
  {
   "cell_type": "markdown",
   "id": "c62481a4",
   "metadata": {},
   "source": [
    "1- como temos muitos valores nulos em algumas colunas, compensa excluir essas colunas, pois caso preenchecemos com algum tipo de parâmetro poderiamos prejudicar o bosso modelodo\n",
    "\n",
    "2- para as outras colunas que temos poucos NaN vamos excluir a linha inteira, pois temos mais de 900 mil linhas "
   ]
  },
  {
   "cell_type": "code",
   "execution_count": null,
   "id": "1393fce1",
   "metadata": {},
   "outputs": [],
   "source": [
    "# como temos muitos valores nulos em algumas colunas, compensa excluir essas colunas, pois caso preenchecemos \n",
    "# com algum tipo de parâmetro poderiamos prejudicar o bosso modelodo\n",
    "for coluna in airbnb_df:\n",
    "    if airbnb_df[coluna].isnull().sum() > 300000:\n",
    "        airbnb_df = airbnb_df.drop(coluna, axis=1)\n",
    "print(airbnb_df.isnull().sum())"
   ]
  },
  {
   "cell_type": "code",
   "execution_count": null,
   "id": "f9e8b9df",
   "metadata": {},
   "outputs": [],
   "source": [
    "airbnb_df = airbnb_df.dropna()\n",
    "print(airbnb_df.isnull().sum())"
   ]
  },
  {
   "cell_type": "code",
   "execution_count": null,
   "id": "3c3ebf34",
   "metadata": {},
   "outputs": [],
   "source": [
    "print(airbnb_df.shape)"
   ]
  },
  {
   "cell_type": "markdown",
   "id": "e3bdf5f6",
   "metadata": {},
   "source": [
    "# Ajeitando os tipos de dados"
   ]
  },
  {
   "cell_type": "code",
   "execution_count": null,
   "id": "d047eefe",
   "metadata": {},
   "outputs": [],
   "source": [
    "print(airbnb_df.dtypes)\n",
    "print('-'*60)\n",
    "print(airbnb_df.iloc[0])"
   ]
  },
  {
   "cell_type": "markdown",
   "id": "4af8e270",
   "metadata": {},
   "source": [
    "Como a coluna price e extra_people estão sendo reconhecidas como texto (o esperado era ser reconhecido como um número), precisaremos fazer algumas alterações nesses dados"
   ]
  },
  {
   "cell_type": "code",
   "execution_count": null,
   "id": "8791d2d9",
   "metadata": {},
   "outputs": [],
   "source": [
    "#price\n",
    "airbnb_df['price'] = airbnb_df['price'].str.replace('$','')\n",
    "airbnb_df['price'] = airbnb_df['price'].str.replace(',','')\n",
    "airbnb_df['price'] = airbnb_df['price'].astype(np.float32, copy=False)\n",
    "\n",
    "#extra_people\n",
    "airbnb_df['extra_people'] = airbnb_df['extra_people'].str.replace('$','')\n",
    "airbnb_df['extra_people'] = airbnb_df['extra_people'].str.replace(',','')\n",
    "airbnb_df['extra_people'] = airbnb_df['extra_people'].astype(np.float32, copy=False)"
   ]
  },
  {
   "cell_type": "markdown",
   "id": "cf438fd2",
   "metadata": {},
   "source": [
    "Quando temos muitos dados é melhor trabalharmos com float32 ou int32, por conta de ocupação de memória, então vou tranformá-los de 64 para 32"
   ]
  },
  {
   "cell_type": "code",
   "execution_count": null,
   "id": "61163b2c",
   "metadata": {},
   "outputs": [],
   "source": [
    "for coluna in airbnb_df:\n",
    "    if airbnb_df[coluna].dtypes == 'float64':\n",
    "        airbnb_df[coluna] = airbnb_df[coluna].astype(np.float32, copy=False)\n",
    "    if airbnb_df[coluna].dtypes == 'int64':\n",
    "        airbnb_df[coluna] = airbnb_df[coluna].astype(np.int32, copy=False)"
   ]
  },
  {
   "cell_type": "code",
   "execution_count": null,
   "id": "361d24ce",
   "metadata": {},
   "outputs": [],
   "source": [
    "print(airbnb_df.dtypes)"
   ]
  },
  {
   "cell_type": "markdown",
   "id": "16b9ee42",
   "metadata": {},
   "source": [
    "### Análise Exploratória e Tratar Outliers\n",
    "\n",
    "- Vamos basicamente olhar feature por feature para:\n",
    "    1. Ver a correlação entre as features e decidir se manteremos todas as features que temos.\n",
    "    2. Excluir outliers (usaremos como regra, valores abaixo de Q1 - 1.5xAmplitude e valores acima de Q3 + 1.5x Amplitude). Amplitude = Q3 - Q1\n",
    "    3. Confirmar se todas as features que temos fazem realmente sentido para o nosso modelo ou se alguma delas não vai nos ajudar e se devemos excluir\n",
    "    \n",
    "- Vamos começar pelas colunas de preço (resultado final que queremos) e de extra_people (também valor monetário). Esses são os valores numéricos contínuos.\n",
    "\n",
    "- Depois vamos analisar as colunas de valores numéricos discretos (accomodates, bedrooms, guests_included, etc.)\n",
    "\n",
    "- Por fim, vamos avaliar as colunas de texto e definir quais categorias fazem sentido mantermos ou não.\n",
    "\n",
    "MAS CUIDADO: não saia excluindo direto outliers, pense exatamente no que você está fazendo. Se não tem um motivo claro para remover o outlier, talvez não seja necessário e pode ser prejudicial para a generalização. Então tem que ter uma balança ai. Claro que você sempre pode testar e ver qual dá o melhor resultado, mas fazer isso para todas as features vai dar muito trabalho.\n",
    "\n",
    "Ex de análise: Se o objetivo é ajudar a precificar um imóvel que você está querendo disponibilizar, excluir outliers em host_listings_count pode fazer sentido. Agora, se você é uma empresa com uma série de propriedades e quer comparar com outras empresas do tipo também e se posicionar dessa forma, talvez excluir quem tem acima de 6 propriedades tire isso do seu modelo. Pense sempre no seu objetivo"
   ]
  },
  {
   "cell_type": "code",
   "execution_count": null,
   "id": "aca9deeb",
   "metadata": {},
   "outputs": [],
   "source": [
    "plt.figure(figsize=(15,10))\n",
    "sns.heatmap(airbnb_df.corr(numeric_only=True), annot=True, cmap='Greens')"
   ]
  },
  {
   "cell_type": "markdown",
   "id": "2dc9cf57",
   "metadata": {},
   "source": [
    "### Definição de Funções para Análise de Outliers\n",
    "\n",
    "Vamos definir algumas funções para ajudar na análise de outliers das colunas"
   ]
  },
  {
   "cell_type": "code",
   "execution_count": null,
   "id": "3f6101be",
   "metadata": {},
   "outputs": [],
   "source": [
    "def definir_limites(coluna):\n",
    "    q1 = coluna.quantile(0.25)\n",
    "    q3 = coluna.quantile(0.75)\n",
    "    amplitude = q3 - q1\n",
    "    return q1 - 1.5 * amplitude, q3 + 1.5 * amplitude\n",
    "\n",
    "\n",
    "def excluir_outliers(df, coluna):\n",
    "    qtd_linhas = df.shape[0]\n",
    "    inf, sup = definir_limites(df[coluna])\n",
    "    df = df.loc[(df[coluna] >= inf) & (df[coluna] <= sup), :]\n",
    "    linhas_removidas = qtd_linhas - df.shape[0]\n",
    "    return df, linhas_removidas"
   ]
  },
  {
   "cell_type": "code",
   "execution_count": null,
   "id": "cf9b9966",
   "metadata": {},
   "outputs": [],
   "source": [
    "def diagrama_caixa(coluna):\n",
    "    fig, (ax1, ax2) = plt.subplots(1, 2)\n",
    "    fig.set_size_inches(15, 5)\n",
    "    sns.boxplot(x=coluna, ax=ax1)\n",
    "    ax2.set_xlim(definir_limites(coluna))\n",
    "    sns.boxplot(x=coluna, ax=ax2)\n",
    "    \n",
    "def histograma(coluna):\n",
    "    plt.figure(figsize=(15, 5))\n",
    "    sns.histplot(data = airbnb_df, x=coluna, kde=True)\n",
    "    \n",
    "    \n",
    "def barra(coluna):\n",
    "    plt.figure(figsize=(15, 5))\n",
    "    ax = sns.barplot(x=coluna.value_counts().index, y=coluna.value_counts())\n",
    "    ax.set_xlim(definir_limites(coluna))"
   ]
  },
  {
   "cell_type": "markdown",
   "id": "4a5b6759",
   "metadata": {},
   "source": [
    "# price"
   ]
  },
  {
   "cell_type": "code",
   "execution_count": null,
   "id": "5c48d8b5",
   "metadata": {},
   "outputs": [],
   "source": [
    "diagrama_caixa(airbnb_df['price'])\n",
    "histograma(airbnb_df['price'])"
   ]
  },
  {
   "cell_type": "markdown",
   "id": "995216ab",
   "metadata": {},
   "source": [
    "Como estamos construindo um modelo para imóveis comuns, acredito que os valores acima do limite superior serão apenas de apartamentos de altíssimo luxo, que não é o nosso objetivo principal. Por isso, podemos excluir esses outliers."
   ]
  },
  {
   "cell_type": "code",
   "execution_count": null,
   "id": "a0e9d304",
   "metadata": {},
   "outputs": [],
   "source": [
    "airbnb_df, linhas_removidas = excluir_outliers(airbnb_df, 'price')\n",
    "print(f'{linhas_removidas} linhas removidas')"
   ]
  },
  {
   "cell_type": "code",
   "execution_count": null,
   "id": "85b474d4",
   "metadata": {},
   "outputs": [],
   "source": [
    "histograma(airbnb_df['price'])\n",
    "print(airbnb_df.shape)"
   ]
  },
  {
   "cell_type": "markdown",
   "id": "60c60ef7",
   "metadata": {},
   "source": [
    "### extra_people"
   ]
  },
  {
   "cell_type": "code",
   "execution_count": null,
   "id": "46681ee8",
   "metadata": {},
   "outputs": [],
   "source": [
    "diagrama_caixa(airbnb_df['extra_people'])\n",
    "histograma(airbnb_df['extra_people'])"
   ]
  },
  {
   "cell_type": "code",
   "execution_count": null,
   "id": "8dfda124",
   "metadata": {},
   "outputs": [],
   "source": [
    "airbnb_df, linhas_removidas = excluir_outliers(airbnb_df, 'extra_people')\n",
    "print(f'{linhas_removidas} linhas removidas')\n",
    "\n",
    "histograma(airbnb_df['extra_people'])\n",
    "print(airbnb_df.shape)"
   ]
  },
  {
   "cell_type": "markdown",
   "id": "ca473af7",
   "metadata": {},
   "source": [
    "### host_listings_count        "
   ]
  },
  {
   "cell_type": "code",
   "execution_count": null,
   "id": "e40f4781",
   "metadata": {},
   "outputs": [],
   "source": [
    "diagrama_caixa(airbnb_df['host_listings_count'])\n",
    "barra(airbnb_df['host_listings_count'])"
   ]
  },
  {
   "cell_type": "markdown",
   "id": "ab2d569a",
   "metadata": {},
   "source": [
    "Podemos excluir os outliers, porque para o objetivo do nosso projeto porque hosts com mais de 6 imóveis no airbnb não é o público alvo do objetivo do projeto (imagino que sejam imobiliários ou profissionais que gerenciam imóveis no airbnb)"
   ]
  },
  {
   "cell_type": "code",
   "execution_count": null,
   "id": "3663bf5b",
   "metadata": {},
   "outputs": [],
   "source": [
    "airbnb_df, linhas_removidas = excluir_outliers(airbnb_df, 'host_listings_count')\n",
    "print(f'{linhas_removidas} linhas removidas')"
   ]
  },
  {
   "cell_type": "markdown",
   "id": "07725095",
   "metadata": {},
   "source": [
    "### accommodates"
   ]
  },
  {
   "cell_type": "code",
   "execution_count": null,
   "id": "558c010c",
   "metadata": {},
   "outputs": [],
   "source": [
    "diagrama_caixa(airbnb_df['accommodates'])\n",
    "barra(airbnb_df['accommodates'])"
   ]
  },
  {
   "cell_type": "code",
   "execution_count": null,
   "id": "72c04374",
   "metadata": {},
   "outputs": [],
   "source": [
    "airbnb_df, linhas_removidas = excluir_outliers(airbnb_df, 'accommodates')\n",
    "print(f'{linhas_removidas} linhas removidas')"
   ]
  },
  {
   "cell_type": "markdown",
   "id": "9fcf6e09",
   "metadata": {},
   "source": [
    "### bathrooms"
   ]
  },
  {
   "cell_type": "code",
   "execution_count": null,
   "id": "d87f115b",
   "metadata": {},
   "outputs": [],
   "source": [
    "diagrama_caixa(airbnb_df['bathrooms'])\n",
    "plt.figure(figsize=(15, 5))\n",
    "sns.barplot(x=airbnb_df['bathrooms'].value_counts().index, y=airbnb_df['bathrooms'].value_counts())"
   ]
  },
  {
   "cell_type": "code",
   "execution_count": null,
   "id": "211b59dd",
   "metadata": {},
   "outputs": [],
   "source": [
    "airbnb_df, linhas_removidas = excluir_outliers(airbnb_df, 'bathrooms')\n",
    "print(f'{linhas_removidas} linhas removidas')"
   ]
  },
  {
   "cell_type": "markdown",
   "id": "c544dc5e",
   "metadata": {},
   "source": [
    "### bedrooms"
   ]
  },
  {
   "cell_type": "code",
   "execution_count": null,
   "id": "ca711619",
   "metadata": {},
   "outputs": [],
   "source": [
    "diagrama_caixa(airbnb_df['bedrooms'])\n",
    "barra(airbnb_df['bedrooms'])"
   ]
  },
  {
   "cell_type": "code",
   "execution_count": null,
   "id": "a50e27e8",
   "metadata": {},
   "outputs": [],
   "source": [
    "airbnb_df, linhas_removidas = excluir_outliers(airbnb_df, 'bedrooms')\n",
    "print(f'{linhas_removidas} linhas removidas')"
   ]
  },
  {
   "cell_type": "markdown",
   "id": "827471af",
   "metadata": {},
   "source": [
    "### beds"
   ]
  },
  {
   "cell_type": "code",
   "execution_count": null,
   "id": "e7b14ba0",
   "metadata": {},
   "outputs": [],
   "source": [
    "diagrama_caixa(airbnb_df['beds'])\n",
    "barra(airbnb_df['beds'])"
   ]
  },
  {
   "cell_type": "code",
   "execution_count": null,
   "id": "4331a2cb",
   "metadata": {},
   "outputs": [],
   "source": [
    "airbnb_df, linhas_removidas = excluir_outliers(airbnb_df, 'beds')\n",
    "print(f'{linhas_removidas} linhas removidas')"
   ]
  },
  {
   "cell_type": "markdown",
   "id": "88a37b99",
   "metadata": {},
   "source": [
    "### guests_included"
   ]
  },
  {
   "cell_type": "code",
   "execution_count": null,
   "id": "f75545e2",
   "metadata": {},
   "outputs": [],
   "source": [
    "#diagrama_caixa(base_airbnb['guests_included'])\n",
    "#grafico_barra(base_airbnb['guests_included'])\n",
    "print(definir_limites(airbnb_df['guests_included']))\n",
    "plt.figure(figsize=(15, 5))\n",
    "sns.barplot(x=airbnb_df['guests_included'].value_counts().index, y=airbnb_df['guests_included'].value_counts())"
   ]
  },
  {
   "cell_type": "markdown",
   "id": "3900b047",
   "metadata": {},
   "source": [
    "Vamos remover essa feature da análise. Parece que os usuários do airbnb usam muito o valor padrão do airbnb como 1 guest included. Isso pode levar o nosso modelo a considerar uma feature que na verdade não é essencial para a definição do preço, por isso, me parece melhor excluir a coluna da análise"
   ]
  },
  {
   "cell_type": "code",
   "execution_count": null,
   "id": "eb12cc70",
   "metadata": {},
   "outputs": [],
   "source": [
    "airbnb_df = airbnb_df.drop('guests_included', axis=1)\n",
    "airbnb_df.shape"
   ]
  },
  {
   "cell_type": "markdown",
   "id": "262b9319",
   "metadata": {},
   "source": [
    "### minimum_nights "
   ]
  },
  {
   "cell_type": "code",
   "execution_count": null,
   "id": "5a191b04",
   "metadata": {},
   "outputs": [],
   "source": [
    "diagrama_caixa(airbnb_df['minimum_nights'])\n",
    "barra(airbnb_df['minimum_nights'])"
   ]
  },
  {
   "cell_type": "markdown",
   "id": "2fea570a",
   "metadata": {},
   "source": [
    "- Aqui temos um motivo talvez até mais forte para excluir esses apartamentos da análise.\n",
    "\n",
    "- Estamos querendo um modelo que ajude a precificar apartamentos comuns como uma pessoa comum gostaria de disponibilizar. No caso, apartamentos com mais de 8 noites como o \"mínimo de noites\" podem ser apartamentos de temporada ou ainda apartamentos para morar, em que o host exige pelo menos 1 mês no apartamento.\n",
    "\n",
    "- Por isso, vamos excluir os outliers dessa coluna"
   ]
  },
  {
   "cell_type": "code",
   "execution_count": null,
   "id": "211db906",
   "metadata": {},
   "outputs": [],
   "source": [
    "airbnb_df, linhas_removidas = excluir_outliers(airbnb_df, 'minimum_nights')\n",
    "print(f'{linhas_removidas} linhas removidas')"
   ]
  },
  {
   "cell_type": "markdown",
   "id": "94b6c7fa",
   "metadata": {},
   "source": [
    "### maximum_nights"
   ]
  },
  {
   "cell_type": "code",
   "execution_count": null,
   "id": "35b17aa0",
   "metadata": {},
   "outputs": [],
   "source": [
    "diagrama_caixa(airbnb_df['maximum_nights'])\n",
    "barra(airbnb_df['maximum_nights'])"
   ]
  },
  {
   "cell_type": "markdown",
   "id": "427ae1b9",
   "metadata": {},
   "source": [
    "- Essa coluna não parece que vai ajudar na análise.\n",
    "\n",
    "- Isso porque parece que quase todos os hosts não preenchem esse campo de maximum nights, então ele não parece que vai ser um fator relevante.\n",
    "\n",
    "- É melhor excluirmos essa coluna da análise"
   ]
  },
  {
   "cell_type": "code",
   "execution_count": null,
   "id": "e75424ba",
   "metadata": {},
   "outputs": [],
   "source": [
    "airbnb_df = airbnb_df.drop('maximum_nights', axis=1)\n",
    "airbnb_df.shape"
   ]
  },
  {
   "cell_type": "markdown",
   "id": "f6cc1b78",
   "metadata": {},
   "source": [
    "### number_of_reviews"
   ]
  },
  {
   "cell_type": "code",
   "execution_count": null,
   "id": "7202d87f",
   "metadata": {},
   "outputs": [],
   "source": [
    "diagrama_caixa(airbnb_df['number_of_reviews'])\n",
    "barra(airbnb_df['number_of_reviews'])"
   ]
  },
  {
   "cell_type": "markdown",
   "id": "ad259875",
   "metadata": {},
   "source": [
    "- Aqui temos um motivo talvez até mais forte para excluir esses apartamentos da análise.\n",
    "\n",
    "- Estamos querendo um modelo que ajude a precificar apartamentos comuns como uma pessoa comum gostaria de disponibilizar. No caso, apartamentos com mais de 8 noites como o \"mínimo de noites\" podem ser apartamentos de temporada ou ainda apartamentos para morar, em que o host exige pelo menos 1 mês no apartamento.\n",
    "\n",
    "- Por isso, vamos excluir os outliers dessa coluna"
   ]
  },
  {
   "cell_type": "code",
   "execution_count": null,
   "id": "aa284b46",
   "metadata": {},
   "outputs": [],
   "source": [
    "airbnb_df, linhas_removidas = excluir_outliers(airbnb_df, 'number_of_reviews')\n",
    "print(f'{linhas_removidas} linhas removidas')"
   ]
  },
  {
   "cell_type": "code",
   "execution_count": null,
   "id": "cfc12075",
   "metadata": {},
   "outputs": [],
   "source": [
    "print(airbnb_df.shape)"
   ]
  },
  {
   "cell_type": "markdown",
   "id": "b80319f0",
   "metadata": {},
   "source": [
    "### Tratamento de Colunas de Valores de Texto"
   ]
  },
  {
   "cell_type": "markdown",
   "id": "83420a85",
   "metadata": {},
   "source": [
    "### - property_type"
   ]
  },
  {
   "cell_type": "code",
   "execution_count": null,
   "id": "41172cfc",
   "metadata": {},
   "outputs": [],
   "source": [
    "print(airbnb_df['property_type'].value_counts())\n",
    "plt.figure(figsize=(15, 5))\n",
    "grafico = sns.countplot(x=airbnb_df['property_type'])\n",
    "grafico.tick_params(axis='x', rotation=90)"
   ]
  },
  {
   "cell_type": "markdown",
   "id": "c62a2f66",
   "metadata": {},
   "source": [
    "- Aqui a nossa ação não é \"excluir outliers\", mas sim agrupar valores que são muito pequenos.\n",
    "\n",
    "- Todos os tipos de propriedade que têm menos de 2.000 propriedades na base de dados, eu vou agrupar em um grupo chamado \"outros\". Acho que isso vai facilitar o nosso modelo"
   ]
  },
  {
   "cell_type": "code",
   "execution_count": null,
   "id": "6d840fd2",
   "metadata": {},
   "outputs": [],
   "source": [
    "tipo_casas = airbnb_df['property_type'].value_counts()\n",
    "agrupar = []\n",
    "\n",
    "for tipo in tipo_casas.index:\n",
    "    if tipo_casas[tipo] < 2000:\n",
    "        agrupar.append(tipo)\n",
    "print(agrupar)\n",
    "\n",
    "for tipo in agrupar:\n",
    "    airbnb_df.loc[airbnb_df['property_type']==tipo, 'property_type'] = 'Other'\n",
    "    \n",
    "print(airbnb_df['property_type'].value_counts())\n",
    "plt.figure(figsize=(15, 5))\n",
    "grafico = sns.countplot(x=airbnb_df['property_type'])\n",
    "grafico.tick_params(axis='x', rotation=90)"
   ]
  },
  {
   "cell_type": "markdown",
   "id": "66959427",
   "metadata": {},
   "source": [
    "### room_type                    "
   ]
  },
  {
   "cell_type": "code",
   "execution_count": null,
   "id": "c5338379",
   "metadata": {},
   "outputs": [],
   "source": [
    "print(airbnb_df['room_type'].value_counts())\n",
    "plt.figure(figsize=(15, 5))\n",
    "grafico = sns.countplot(x=airbnb_df['room_type'])\n",
    "grafico.tick_params(axis='x', rotation=90)"
   ]
  },
  {
   "cell_type": "markdown",
   "id": "d5aa281f",
   "metadata": {},
   "source": [
    "### bed_type"
   ]
  },
  {
   "cell_type": "code",
   "execution_count": null,
   "id": "3eb00675",
   "metadata": {},
   "outputs": [],
   "source": [
    "print(airbnb_df['bed_type'].value_counts())\n",
    "plt.figure(figsize=(15, 5))\n",
    "grafico = sns.countplot(x=airbnb_df['bed_type'])\n",
    "grafico.tick_params(axis='x', rotation=90)"
   ]
  },
  {
   "cell_type": "code",
   "execution_count": null,
   "id": "344720e2",
   "metadata": {},
   "outputs": [],
   "source": [
    "tipo_cama = airbnb_df['bed_type'].value_counts()\n",
    "agrupar = []\n",
    "\n",
    "for tipo in tipo_cama.index:\n",
    "    if tipo_cama[tipo] < 10000:\n",
    "        agrupar.append(tipo)\n",
    "print(agrupar)\n",
    "\n",
    "for tipo in agrupar:\n",
    "    airbnb_df.loc[airbnb_df['bed_type']==tipo, 'bed_type'] = 'Other'"
   ]
  },
  {
   "cell_type": "code",
   "execution_count": null,
   "id": "c6b201ac",
   "metadata": {},
   "outputs": [],
   "source": [
    "print(airbnb_df['bed_type'].value_counts())\n",
    "plt.figure(figsize=(15, 5))\n",
    "grafico = sns.countplot(x=airbnb_df['bed_type'])\n",
    "grafico.tick_params(axis='x', rotation=90)"
   ]
  },
  {
   "cell_type": "markdown",
   "id": "5a0e8cfa",
   "metadata": {},
   "source": [
    "### cancellation_policy          "
   ]
  },
  {
   "cell_type": "code",
   "execution_count": null,
   "id": "a8d4ea3c",
   "metadata": {},
   "outputs": [],
   "source": [
    "print(airbnb_df['cancellation_policy'].value_counts())\n",
    "plt.figure(figsize=(15, 5))\n",
    "grafico = sns.countplot(x=airbnb_df['cancellation_policy'])\n",
    "grafico.tick_params(axis='x', rotation=90)"
   ]
  },
  {
   "cell_type": "code",
   "execution_count": null,
   "id": "87d6c416",
   "metadata": {},
   "outputs": [],
   "source": [
    "tipo_cancelameto = airbnb_df['cancellation_policy'].value_counts()\n",
    "agrupar = []\n",
    "\n",
    "for tipo in tipo_cancelameto.index:\n",
    "    if tipo_cancelameto[tipo] < 10000:\n",
    "        agrupar.append(tipo)\n",
    "print(agrupar)\n",
    "\n",
    "for tipo in agrupar:\n",
    "    airbnb_df.loc[airbnb_df['cancellation_policy']==tipo, 'cancellation_policy'] = 'strict'"
   ]
  },
  {
   "cell_type": "code",
   "execution_count": null,
   "id": "7bcc75ad",
   "metadata": {},
   "outputs": [],
   "source": [
    "print(airbnb_df['cancellation_policy'].value_counts())\n",
    "plt.figure(figsize=(15, 5))\n",
    "grafico = sns.countplot(x=airbnb_df['cancellation_policy'])\n",
    "grafico.tick_params(axis='x', rotation=90)"
   ]
  },
  {
   "cell_type": "markdown",
   "id": "ce9a2b49",
   "metadata": {},
   "source": [
    "###  amenities"
   ]
  },
  {
   "cell_type": "markdown",
   "id": "2a3daad0",
   "metadata": {},
   "source": [
    "Como temos uma diversidade muito grande de amenities e, às vezes, as mesmas amenities podem ser escritas de forma diferente, vamos avaliar a quantidade de amenities como o parâmetro para o nosso modelo."
   ]
  },
  {
   "cell_type": "code",
   "execution_count": null,
   "id": "e0e2cafc",
   "metadata": {},
   "outputs": [],
   "source": [
    "print(airbnb_df['amenities'].iloc[1].split(','))\n",
    "print(len(airbnb_df['amenities'].iloc[1].split(',')))\n",
    "\n",
    "airbnb_df['n_amenities'] = airbnb_df['amenities'].str.split(',').apply(len)"
   ]
  },
  {
   "cell_type": "code",
   "execution_count": null,
   "id": "015c2c7e",
   "metadata": {},
   "outputs": [],
   "source": [
    "airbnb_df = airbnb_df.drop('amenities', axis=1)\n",
    "airbnb_df.shape"
   ]
  },
  {
   "cell_type": "code",
   "execution_count": null,
   "id": "f5288e61",
   "metadata": {},
   "outputs": [],
   "source": [
    "diagrama_caixa(airbnb_df['amenities'])\n",
    "histograma(airbnb_df['amenities'])"
   ]
  },
  {
   "cell_type": "code",
   "execution_count": null,
   "id": "bb425b9e",
   "metadata": {},
   "outputs": [],
   "source": []
  },
  {
   "cell_type": "code",
   "execution_count": null,
   "id": "c798e663",
   "metadata": {},
   "outputs": [],
   "source": []
  },
  {
   "cell_type": "code",
   "execution_count": null,
   "id": "f1bbf03f",
   "metadata": {},
   "outputs": [],
   "source": []
  },
  {
   "cell_type": "code",
   "execution_count": null,
   "id": "bcad2863",
   "metadata": {},
   "outputs": [],
   "source": []
  }
 ],
 "metadata": {
  "kernelspec": {
   "display_name": "Python 3 (ipykernel)",
   "language": "python",
   "name": "python3"
  },
  "language_info": {
   "codemirror_mode": {
    "name": "ipython",
    "version": 3
   },
   "file_extension": ".py",
   "mimetype": "text/x-python",
   "name": "python",
   "nbconvert_exporter": "python",
   "pygments_lexer": "ipython3",
   "version": "3.11.5"
  }
 },
 "nbformat": 4,
 "nbformat_minor": 5
}
